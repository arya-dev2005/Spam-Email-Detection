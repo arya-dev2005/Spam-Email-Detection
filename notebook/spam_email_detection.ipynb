{
 "cells": [
  {
   "cell_type": "code",
   "execution_count": 1,
   "id": "e6d5c469",
   "metadata": {
    "_cell_guid": "b1076dfc-b9ad-4769-8c92-a6c4dae69d19",
    "_uuid": "8f2839f25d086af736a60e9eeb907d3b93b6e0e5",
    "execution": {
     "iopub.execute_input": "2025-10-15T21:05:06.302277Z",
     "iopub.status.busy": "2025-10-15T21:05:06.302019Z",
     "iopub.status.idle": "2025-10-15T21:05:08.221345Z",
     "shell.execute_reply": "2025-10-15T21:05:08.220457Z"
    },
    "papermill": {
     "duration": 1.925155,
     "end_time": "2025-10-15T21:05:08.222528",
     "exception": false,
     "start_time": "2025-10-15T21:05:06.297373",
     "status": "completed"
    },
    "tags": []
   },
   "outputs": [
    {
     "name": "stdout",
     "output_type": "stream",
     "text": [
      "/kaggle/input/spam-email/spam.csv\n"
     ]
    }
   ],
   "source": [
    "# This Python 3 environment comes with many helpful analytics libraries installed\n",
    "# It is defined by the kaggle/python Docker image: https://github.com/kaggle/docker-python\n",
    "# For example, here's several helpful packages to load\n",
    "\n",
    "import numpy as np # linear algebra\n",
    "import pandas as pd # data processing, CSV file I/O (e.g. pd.read_csv)\n",
    "\n",
    "# Input data files are available in the read-only \"../input/\" directory\n",
    "# For example, running this (by clicking run or pressing Shift+Enter) will list all files under the input directory\n",
    "\n",
    "import os\n",
    "for dirname, _, filenames in os.walk('/kaggle/input'):\n",
    "    for filename in filenames:\n",
    "        print(os.path.join(dirname, filename))\n",
    "\n",
    "# You can write up to 20GB to the current directory (/kaggle/working/) that gets preserved as output when you create a version using \"Save & Run All\" \n",
    "# You can also write temporary files to /kaggle/temp/, but they won't be saved outside of the current session"
   ]
  },
  {
   "cell_type": "code",
   "execution_count": 2,
   "id": "0a2b650d",
   "metadata": {
    "execution": {
     "iopub.execute_input": "2025-10-15T21:05:08.228881Z",
     "iopub.status.busy": "2025-10-15T21:05:08.228503Z",
     "iopub.status.idle": "2025-10-15T21:05:30.955490Z",
     "shell.execute_reply": "2025-10-15T21:05:30.954881Z"
    },
    "papermill": {
     "duration": 22.731553,
     "end_time": "2025-10-15T21:05:30.956919",
     "exception": false,
     "start_time": "2025-10-15T21:05:08.225366",
     "status": "completed"
    },
    "tags": []
   },
   "outputs": [
    {
     "name": "stderr",
     "output_type": "stream",
     "text": [
      "2025-10-15 21:05:11.661733: E external/local_xla/xla/stream_executor/cuda/cuda_fft.cc:477] Unable to register cuFFT factory: Attempting to register factory for plugin cuFFT when one has already been registered\n",
      "WARNING: All log messages before absl::InitializeLog() is called are written to STDERR\n",
      "E0000 00:00:1760562312.086292      19 cuda_dnn.cc:8310] Unable to register cuDNN factory: Attempting to register factory for plugin cuDNN when one has already been registered\n",
      "E0000 00:00:1760562312.200852      19 cuda_blas.cc:1418] Unable to register cuBLAS factory: Attempting to register factory for plugin cuBLAS when one has already been registered\n"
     ]
    }
   ],
   "source": [
    "# Import libraries\n",
    "import numpy as np\n",
    "import pandas as pd\n",
    "import tensorflow as tf\n",
    "from tensorflow.keras.preprocessing.text import Tokenizer\n",
    "from tensorflow.keras.preprocessing.sequence import pad_sequences\n",
    "from tensorflow.keras.models import Sequential\n",
    "from tensorflow.keras.layers import Embedding, LSTM, Dense, Dropout, Bidirectional\n",
    "from tensorflow.keras.callbacks import EarlyStopping, ModelCheckpoint\n",
    "from sklearn.model_selection import train_test_split\n",
    "from sklearn.metrics import confusion_matrix, classification_report, accuracy_score\n",
    "import matplotlib.pyplot as plt\n",
    "import seaborn as sns"
   ]
  },
  {
   "cell_type": "markdown",
   "id": "19d88c01",
   "metadata": {
    "papermill": {
     "duration": 0.002691,
     "end_time": "2025-10-15T21:05:30.962494",
     "exception": false,
     "start_time": "2025-10-15T21:05:30.959803",
     "status": "completed"
    },
    "tags": []
   },
   "source": [
    "## STEP 1: LOAD & PREPROCESS DATA"
   ]
  },
  {
   "cell_type": "code",
   "execution_count": 3,
   "id": "cb48537f",
   "metadata": {
    "execution": {
     "iopub.execute_input": "2025-10-15T21:05:30.968546Z",
     "iopub.status.busy": "2025-10-15T21:05:30.968016Z",
     "iopub.status.idle": "2025-10-15T21:05:31.028953Z",
     "shell.execute_reply": "2025-10-15T21:05:31.028047Z"
    },
    "papermill": {
     "duration": 0.065196,
     "end_time": "2025-10-15T21:05:31.030163",
     "exception": false,
     "start_time": "2025-10-15T21:05:30.964967",
     "status": "completed"
    },
    "tags": []
   },
   "outputs": [
    {
     "name": "stdout",
     "output_type": "stream",
     "text": [
      "Columns: Index(['label', 'message'], dtype='object')\n",
      "   label                                            message\n",
      "0      0  Go until jurong point, crazy.. Available only ...\n",
      "1      0                      Ok lar... Joking wif u oni...\n",
      "2      1  Free entry in 2 a wkly comp to win FA Cup fina...\n",
      "3      0  U dun say so early hor... U c already then say...\n",
      "4      0  Nah I don't think he goes to usf, he lives aro...\n"
     ]
    }
   ],
   "source": [
    "DATA_PATH = '/kaggle/input/spam-email/spam.csv'\n",
    "\n",
    "# Load data\n",
    "df = pd.read_csv(DATA_PATH, encoding='latin-1')\n",
    "\n",
    "# Keep only relevant columns\n",
    "df = df[['Category', 'Message']]\n",
    "df.columns = ['label', 'message']\n",
    "\n",
    "# Encode labels: ham = 0, spam = 1\n",
    "df['label'] = df['label'].map({'ham': 0, 'spam': 1})\n",
    "\n",
    "print(\"Columns:\", df.columns)\n",
    "print(df.head())\n",
    "\n",
    "# Split data\n",
    "X_train, X_test, y_train, y_test = train_test_split(df['message'], df['label'], \n",
    "                                                    test_size=0.2, random_state=42)"
   ]
  },
  {
   "cell_type": "markdown",
   "id": "5100720a",
   "metadata": {
    "papermill": {
     "duration": 0.002412,
     "end_time": "2025-10-15T21:05:31.035499",
     "exception": false,
     "start_time": "2025-10-15T21:05:31.033087",
     "status": "completed"
    },
    "tags": []
   },
   "source": [
    "## STEP 2: TOKENIZATION & SEQUENCING"
   ]
  },
  {
   "cell_type": "code",
   "execution_count": 4,
   "id": "266060cb",
   "metadata": {
    "execution": {
     "iopub.execute_input": "2025-10-15T21:05:31.041359Z",
     "iopub.status.busy": "2025-10-15T21:05:31.041103Z",
     "iopub.status.idle": "2025-10-15T21:05:31.188940Z",
     "shell.execute_reply": "2025-10-15T21:05:31.188296Z"
    },
    "papermill": {
     "duration": 0.152258,
     "end_time": "2025-10-15T21:05:31.190255",
     "exception": false,
     "start_time": "2025-10-15T21:05:31.037997",
     "status": "completed"
    },
    "tags": []
   },
   "outputs": [],
   "source": [
    "vocab_size = 10000\n",
    "max_len = 100\n",
    "oov_token = \"<OOV>\"\n",
    "\n",
    "tokenizer = Tokenizer(num_words=vocab_size, oov_token=oov_token)\n",
    "tokenizer.fit_on_texts(X_train)\n",
    "\n",
    "X_train_seq = tokenizer.texts_to_sequences(X_train)\n",
    "X_test_seq = tokenizer.texts_to_sequences(X_test)\n",
    "\n",
    "X_train_pad = pad_sequences(X_train_seq, maxlen=max_len, padding='post', truncating='post')\n",
    "X_test_pad = pad_sequences(X_test_seq, maxlen=max_len, padding='post', truncating='post')\n"
   ]
  },
  {
   "cell_type": "markdown",
   "id": "afa669b2",
   "metadata": {
    "papermill": {
     "duration": 0.002375,
     "end_time": "2025-10-15T21:05:31.195710",
     "exception": false,
     "start_time": "2025-10-15T21:05:31.193335",
     "status": "completed"
    },
    "tags": []
   },
   "source": [
    "## STEP 3: MODEL CREATION"
   ]
  },
  {
   "cell_type": "code",
   "execution_count": 5,
   "id": "6f74a2f4",
   "metadata": {
    "execution": {
     "iopub.execute_input": "2025-10-15T21:05:31.201508Z",
     "iopub.status.busy": "2025-10-15T21:05:31.201228Z",
     "iopub.status.idle": "2025-10-15T21:05:32.933211Z",
     "shell.execute_reply": "2025-10-15T21:05:32.932241Z"
    },
    "papermill": {
     "duration": 1.736263,
     "end_time": "2025-10-15T21:05:32.934468",
     "exception": false,
     "start_time": "2025-10-15T21:05:31.198205",
     "status": "completed"
    },
    "tags": []
   },
   "outputs": [
    {
     "name": "stderr",
     "output_type": "stream",
     "text": [
      "I0000 00:00:1760562332.848790      19 gpu_device.cc:2022] Created device /job:localhost/replica:0/task:0/device:GPU:0 with 13942 MB memory:  -> device: 0, name: Tesla T4, pci bus id: 0000:00:04.0, compute capability: 7.5\n",
      "I0000 00:00:1760562332.849498      19 gpu_device.cc:2022] Created device /job:localhost/replica:0/task:0/device:GPU:1 with 13942 MB memory:  -> device: 1, name: Tesla T4, pci bus id: 0000:00:05.0, compute capability: 7.5\n"
     ]
    }
   ],
   "source": [
    "model = Sequential([\n",
    "    Embedding(vocab_size, 128),\n",
    "    Bidirectional(LSTM(64, return_sequences=False)),\n",
    "    Dropout(0.3),\n",
    "    Dense(64, activation='relu'),\n",
    "    Dropout(0.3),\n",
    "    Dense(1, activation='sigmoid')\n",
    "])\n",
    "\n",
    "# Compile the model\n",
    "model.compile(loss='binary_crossentropy', \n",
    "              optimizer='adam', \n",
    "              metrics=['accuracy'])"
   ]
  },
  {
   "cell_type": "markdown",
   "id": "3efbe957",
   "metadata": {
    "papermill": {
     "duration": 0.002411,
     "end_time": "2025-10-15T21:05:32.939750",
     "exception": false,
     "start_time": "2025-10-15T21:05:32.937339",
     "status": "completed"
    },
    "tags": []
   },
   "source": [
    "## STEP 4: CALLBACKS (EarlyStopping & Checkpoint)"
   ]
  },
  {
   "cell_type": "code",
   "execution_count": 6,
   "id": "4a7a3ff0",
   "metadata": {
    "execution": {
     "iopub.execute_input": "2025-10-15T21:05:32.945867Z",
     "iopub.status.busy": "2025-10-15T21:05:32.945634Z",
     "iopub.status.idle": "2025-10-15T21:05:32.949189Z",
     "shell.execute_reply": "2025-10-15T21:05:32.948678Z"
    },
    "papermill": {
     "duration": 0.007851,
     "end_time": "2025-10-15T21:05:32.950224",
     "exception": false,
     "start_time": "2025-10-15T21:05:32.942373",
     "status": "completed"
    },
    "tags": []
   },
   "outputs": [],
   "source": [
    "early_stop = EarlyStopping(\n",
    "    monitor='val_accuracy',\n",
    "    patience=3,\n",
    "    restore_best_weights=True,\n",
    "    mode='max'\n",
    ")\n",
    "\n",
    "checkpoint = ModelCheckpoint(\n",
    "    'best_spam_model.keras',\n",
    "    monitor='val_accuracy',\n",
    "    save_best_only=True,\n",
    "    mode='max',\n",
    "    verbose=1\n",
    ")"
   ]
  },
  {
   "cell_type": "markdown",
   "id": "e03b078d",
   "metadata": {
    "papermill": {
     "duration": 0.002416,
     "end_time": "2025-10-15T21:05:32.955345",
     "exception": false,
     "start_time": "2025-10-15T21:05:32.952929",
     "status": "completed"
    },
    "tags": []
   },
   "source": [
    "## STEP 5: TRAIN THE MODEL"
   ]
  },
  {
   "cell_type": "code",
   "execution_count": 7,
   "id": "a1be4e42",
   "metadata": {
    "execution": {
     "iopub.execute_input": "2025-10-15T21:05:32.961278Z",
     "iopub.status.busy": "2025-10-15T21:05:32.961066Z",
     "iopub.status.idle": "2025-10-15T21:05:46.189897Z",
     "shell.execute_reply": "2025-10-15T21:05:46.189130Z"
    },
    "papermill": {
     "duration": 13.233328,
     "end_time": "2025-10-15T21:05:46.191169",
     "exception": false,
     "start_time": "2025-10-15T21:05:32.957841",
     "status": "completed"
    },
    "tags": []
   },
   "outputs": [
    {
     "name": "stdout",
     "output_type": "stream",
     "text": [
      "Epoch 1/10\n"
     ]
    },
    {
     "name": "stderr",
     "output_type": "stream",
     "text": [
      "I0000 00:00:1760562339.450220      63 cuda_dnn.cc:529] Loaded cuDNN version 90300\n"
     ]
    },
    {
     "name": "stdout",
     "output_type": "stream",
     "text": [
      "\u001b[1m52/56\u001b[0m \u001b[32m━━━━━━━━━━━━━━━━━━\u001b[0m\u001b[37m━━\u001b[0m \u001b[1m0s\u001b[0m 14ms/step - accuracy: 0.8704 - loss: 0.4101\n",
      "Epoch 1: val_accuracy improved from -inf to 0.96525, saving model to best_spam_model.keras\n",
      "\u001b[1m56/56\u001b[0m \u001b[32m━━━━━━━━━━━━━━━━━━━━\u001b[0m\u001b[37m\u001b[0m \u001b[1m10s\u001b[0m 27ms/step - accuracy: 0.8730 - loss: 0.3986 - val_accuracy: 0.9652 - val_loss: 0.1257\n",
      "Epoch 2/10\n",
      "\u001b[1m56/56\u001b[0m \u001b[32m━━━━━━━━━━━━━━━━━━━━\u001b[0m\u001b[37m\u001b[0m \u001b[1m0s\u001b[0m 11ms/step - accuracy: 0.9805 - loss: 0.0718\n",
      "Epoch 2: val_accuracy improved from 0.96525 to 0.98206, saving model to best_spam_model.keras\n",
      "\u001b[1m56/56\u001b[0m \u001b[32m━━━━━━━━━━━━━━━━━━━━\u001b[0m\u001b[37m\u001b[0m \u001b[1m1s\u001b[0m 15ms/step - accuracy: 0.9806 - loss: 0.0714 - val_accuracy: 0.9821 - val_loss: 0.0793\n",
      "Epoch 3/10\n",
      "\u001b[1m56/56\u001b[0m \u001b[32m━━━━━━━━━━━━━━━━━━━━\u001b[0m\u001b[37m\u001b[0m \u001b[1m0s\u001b[0m 11ms/step - accuracy: 0.9960 - loss: 0.0169\n",
      "Epoch 3: val_accuracy did not improve from 0.98206\n",
      "\u001b[1m56/56\u001b[0m \u001b[32m━━━━━━━━━━━━━━━━━━━━\u001b[0m\u001b[37m\u001b[0m \u001b[1m1s\u001b[0m 13ms/step - accuracy: 0.9960 - loss: 0.0170 - val_accuracy: 0.9809 - val_loss: 0.0897\n",
      "Epoch 4/10\n",
      "\u001b[1m56/56\u001b[0m \u001b[32m━━━━━━━━━━━━━━━━━━━━\u001b[0m\u001b[37m\u001b[0m \u001b[1m0s\u001b[0m 11ms/step - accuracy: 0.9976 - loss: 0.0124\n",
      "Epoch 4: val_accuracy did not improve from 0.98206\n",
      "\u001b[1m56/56\u001b[0m \u001b[32m━━━━━━━━━━━━━━━━━━━━\u001b[0m\u001b[37m\u001b[0m \u001b[1m1s\u001b[0m 14ms/step - accuracy: 0.9976 - loss: 0.0123 - val_accuracy: 0.9809 - val_loss: 0.0964\n",
      "Epoch 5/10\n",
      "\u001b[1m56/56\u001b[0m \u001b[32m━━━━━━━━━━━━━━━━━━━━\u001b[0m\u001b[37m\u001b[0m \u001b[1m0s\u001b[0m 11ms/step - accuracy: 0.9986 - loss: 0.0049\n",
      "Epoch 5: val_accuracy did not improve from 0.98206\n",
      "\u001b[1m56/56\u001b[0m \u001b[32m━━━━━━━━━━━━━━━━━━━━\u001b[0m\u001b[37m\u001b[0m \u001b[1m1s\u001b[0m 13ms/step - accuracy: 0.9986 - loss: 0.0048 - val_accuracy: 0.9765 - val_loss: 0.1045\n"
     ]
    }
   ],
   "source": [
    "history = model.fit(\n",
    "    X_train_pad, y_train,\n",
    "    validation_split=0.2,\n",
    "    epochs=10,\n",
    "    batch_size=64,\n",
    "    callbacks=[early_stop, checkpoint],\n",
    "    verbose=1\n",
    ")"
   ]
  },
  {
   "cell_type": "markdown",
   "id": "a51c1cfe",
   "metadata": {
    "papermill": {
     "duration": 0.005601,
     "end_time": "2025-10-15T21:05:46.203256",
     "exception": false,
     "start_time": "2025-10-15T21:05:46.197655",
     "status": "completed"
    },
    "tags": []
   },
   "source": [
    "## STEP 6: EVALUATION"
   ]
  },
  {
   "cell_type": "code",
   "execution_count": 8,
   "id": "47377ef3",
   "metadata": {
    "execution": {
     "iopub.execute_input": "2025-10-15T21:05:46.215637Z",
     "iopub.status.busy": "2025-10-15T21:05:46.215132Z",
     "iopub.status.idle": "2025-10-15T21:05:47.333698Z",
     "shell.execute_reply": "2025-10-15T21:05:47.332842Z"
    },
    "papermill": {
     "duration": 1.126099,
     "end_time": "2025-10-15T21:05:47.334900",
     "exception": false,
     "start_time": "2025-10-15T21:05:46.208801",
     "status": "completed"
    },
    "tags": []
   },
   "outputs": [
    {
     "name": "stdout",
     "output_type": "stream",
     "text": [
      "\u001b[1m35/35\u001b[0m \u001b[32m━━━━━━━━━━━━━━━━━━━━\u001b[0m\u001b[37m\u001b[0m \u001b[1m1s\u001b[0m 13ms/step\n",
      "\n",
      "✅ Accuracy: 98.92%\n",
      "\n",
      "Classification Report:\n",
      "              precision    recall  f1-score   support\n",
      "\n",
      "         Ham       0.99      1.00      0.99       966\n",
      "        Spam       0.97      0.95      0.96       149\n",
      "\n",
      "    accuracy                           0.99      1115\n",
      "   macro avg       0.98      0.97      0.98      1115\n",
      "weighted avg       0.99      0.99      0.99      1115\n",
      "\n"
     ]
    },
    {
     "data": {
      "image/png": "[encoded data removed]",
      "text/plain": [
       "<Figure size 500x400 with 2 Axes>"
      ]
     },
     "metadata": {},
     "output_type": "display_data"
    }
   ],
   "source": [
    "y_pred_prob = model.predict(X_test_pad)\n",
    "y_pred = (y_pred_prob > 0.5).astype(int).reshape(-1)\n",
    "\n",
    "# Metrics\n",
    "acc = accuracy_score(y_test, y_pred)\n",
    "print(f\"\\n✅ Accuracy: {acc*100:.2f}%\")\n",
    "print(\"\\nClassification Report:\")\n",
    "print(classification_report(y_test, y_pred, target_names=['Ham', 'Spam']))\n",
    "\n",
    "# Confusion Matrix\n",
    "cm = confusion_matrix(y_test, y_pred)\n",
    "plt.figure(figsize=(5,4))\n",
    "sns.heatmap(cm, annot=True, fmt='d', cmap='Blues', xticklabels=['Ham','Spam'], yticklabels=['Ham','Spam'])\n",
    "plt.title('Confusion Matrix')\n",
    "plt.xlabel('Predicted')\n",
    "plt.ylabel('True')\n",
    "plt.show()"
   ]
  },
  {
   "cell_type": "markdown",
   "id": "9ecbde75",
   "metadata": {
    "papermill": {
     "duration": 0.006103,
     "end_time": "2025-10-15T21:05:47.347408",
     "exception": false,
     "start_time": "2025-10-15T21:05:47.341305",
     "status": "completed"
    },
    "tags": []
   },
   "source": [
    "## STEP 7: TRAINING VISUALIZATION"
   ]
  },
  {
   "cell_type": "code",
   "execution_count": 9,
   "id": "9fd85288",
   "metadata": {
    "execution": {
     "iopub.execute_input": "2025-10-15T21:05:47.360764Z",
     "iopub.status.busy": "2025-10-15T21:05:47.360461Z",
     "iopub.status.idle": "2025-10-15T21:05:47.833930Z",
     "shell.execute_reply": "2025-10-15T21:05:47.833030Z"
    },
    "papermill": {
     "duration": 0.481451,
     "end_time": "2025-10-15T21:05:47.835147",
     "exception": false,
     "start_time": "2025-10-15T21:05:47.353696",
     "status": "completed"
    },
    "tags": []
   },
   "outputs": [
    {
     "data": {
      "image/png": "[encoded data removed]",
      "text/plain": [
       "<Figure size 1000x500 with 1 Axes>"
      ]
     },
     "metadata": {},
     "output_type": "display_data"
    },
    {
     "name": "stdout",
     "output_type": "stream",
     "text": [
      "\n",
      "✅ Best model saved as 'best_spam_model.keras'\n"
     ]
    }
   ],
   "source": [
    "plt.figure(figsize=(10,5))\n",
    "plt.plot(history.history['accuracy'], label='Train Accuracy')\n",
    "plt.plot(history.history['val_accuracy'], label='Validation Accuracy')\n",
    "plt.plot(history.history['loss'], label='Train Loss')\n",
    "plt.plot(history.history['val_loss'], label='Validation Loss')\n",
    "plt.title('Training Performance')\n",
    "plt.xlabel('Epochs')\n",
    "plt.ylabel('Accuracy / Loss')\n",
    "plt.legend()\n",
    "plt.show()\n",
    "\n",
    "print(\"\\n✅ Best model saved as 'best_spam_model.keras'\")"
   ]
  }
 ],
 "metadata": {
  "kaggle": {
   "accelerator": "nvidiaTeslaT4",
   "dataSources": [
    {
     "datasetId": 1422521,
     "sourceId": 2355807,
     "sourceType": "datasetVersion"
    }
   ],
   "dockerImageVersionId": 31153,
   "isGpuEnabled": true,
   "isInternetEnabled": true,
   "language": "python",
   "sourceType": "notebook"
  },
  "kernelspec": {
   "display_name": "Python 3",
   "language": "python",
   "name": "python3"
  },
  "language_info": {
   "codemirror_mode": {
    "name": "ipython",
    "version": 3
   },
   "file_extension": ".py",
   "mimetype": "text/x-python",
   "name": "python",
   "nbconvert_exporter": "python",
   "pygments_lexer": "ipython3",
   "version": "3.11.13"
  },
  "papermill": {
   "default_parameters": {},
   "duration": 49.646285,
   "end_time": "2025-10-15T21:05:50.688173",
   "environment_variables": {},
   "exception": null,
   "input_path": "__notebook__.ipynb",
   "output_path": "__notebook__.ipynb",
   "parameters": {},
   "start_time": "2025-10-15T21:05:01.041888",
   "version": "2.6.0"
  }
 },
 "nbformat": 4,
 "nbformat_minor": 5
}
